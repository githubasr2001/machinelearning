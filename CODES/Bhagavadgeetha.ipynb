{
 "cells": [
  {
   "cell_type": "code",
   "execution_count": 30,
   "id": "35557ef5",
   "metadata": {},
   "outputs": [],
   "source": [
    "import numpy as np\n",
    "import pandas as pd\n",
    "import matplotlib.pyplot as plt\n",
    "import seaborn as sns\n",
    "from wordcloud import WordCloud,STOPWORDS\n",
    "import os"
   ]
  },
  {
   "cell_type": "code",
   "execution_count": 32,
   "id": "29cd69ae",
   "metadata": {},
   "outputs": [
    {
     "data": {
      "text/html": [
       "<div>\n",
       "<style scoped>\n",
       "    .dataframe tbody tr th:only-of-type {\n",
       "        vertical-align: middle;\n",
       "    }\n",
       "\n",
       "    .dataframe tbody tr th {\n",
       "        vertical-align: top;\n",
       "    }\n",
       "\n",
       "    .dataframe thead th {\n",
       "        text-align: right;\n",
       "    }\n",
       "</style>\n",
       "<table border=\"1\" class=\"dataframe\">\n",
       "  <thead>\n",
       "    <tr style=\"text-align: right;\">\n",
       "      <th></th>\n",
       "      <th>Unnamed: 0</th>\n",
       "      <th>title</th>\n",
       "      <th>devanagari</th>\n",
       "      <th>verse_text</th>\n",
       "      <th>verse_text_no_samdhis</th>\n",
       "    </tr>\n",
       "  </thead>\n",
       "  <tbody>\n",
       "    <tr>\n",
       "      <th>0</th>\n",
       "      <td>0</td>\n",
       "      <td>1.10</td>\n",
       "      <td>धृतराष्ट्र उवाच ।\\r\\nधर्मक्षेत्रे कुरुक्षेत्रे...</td>\n",
       "      <td>dhṛtarāṣṭra uvāca\\r\\ndharma-kṣetre kuru-kṣetre...</td>\n",
       "      <td>dhṛtarāṣṭraḥ uvāca dharma kṣetre kuru kṣetre s...</td>\n",
       "    </tr>\n",
       "    <tr>\n",
       "      <th>1</th>\n",
       "      <td>1</td>\n",
       "      <td>1.20</td>\n",
       "      <td>सञ्जय उवाच ।\\r\\nदृष्ट्वा तु पाण्डवानीकं व्यूढं...</td>\n",
       "      <td>sañjaya uvāca\\r\\ndṛṣṭvā tu pāṇḍavānīkaṁ\\r\\nvyū...</td>\n",
       "      <td>sañjayaḥ uvāca dṛṣṭvā tu pāṇḍava anīkam vyūḍha...</td>\n",
       "    </tr>\n",
       "    <tr>\n",
       "      <th>2</th>\n",
       "      <td>2</td>\n",
       "      <td>1.30</td>\n",
       "      <td>पश्यैतां पाण्डुपुत्राणामाचार्य महतीं चमूम् ।\\r...</td>\n",
       "      <td>paśyaitāṁ pāṇḍu-putrānām\\r\\nācārya mahatīṁ cam...</td>\n",
       "      <td>paśya etām pāṇḍu putrānām ācārya mahatīm camūm...</td>\n",
       "    </tr>\n",
       "    <tr>\n",
       "      <th>3</th>\n",
       "      <td>3</td>\n",
       "      <td>1.40</td>\n",
       "      <td>अत्र शूरा महेष्वासा भीमार्जुनसमा युधि ।\\r\\nयुय...</td>\n",
       "      <td>atra śūrā maheṣv-āsā\\r\\nbhīmārjuna-samā yudhi\\...</td>\n",
       "      <td>atra śūrāḥ mahā iṣu āsāḥ bhīma arjuna samāḥ yu...</td>\n",
       "    </tr>\n",
       "    <tr>\n",
       "      <th>4</th>\n",
       "      <td>4</td>\n",
       "      <td>1.50</td>\n",
       "      <td>धृष्टकेतुश्चेकितानः काशिराजश्च वीर्यवान् ।\\r\\n...</td>\n",
       "      <td>dhṛṣṭaketuś cekitānaḥ\\r\\nkāśirājaś ca vīryavān...</td>\n",
       "      <td>dhṛṣṭaketuḥ cekitānaḥ kāśirājaḥ ca vīrya vān p...</td>\n",
       "    </tr>\n",
       "    <tr>\n",
       "      <th>...</th>\n",
       "      <td>...</td>\n",
       "      <td>...</td>\n",
       "      <td>...</td>\n",
       "      <td>...</td>\n",
       "      <td>...</td>\n",
       "    </tr>\n",
       "    <tr>\n",
       "      <th>695</th>\n",
       "      <td>695</td>\n",
       "      <td>18.74</td>\n",
       "      <td>संजय उवाच ।\\r\\nइत्यहं वासुदेवस्य पार्थस्य च मह...</td>\n",
       "      <td>sañjaya uvāca\\r\\nity ahaṁ vāsudevasya\\r\\npārth...</td>\n",
       "      <td>sañjayaḥ uvāca iti aham vāsudevasya pārthasya ...</td>\n",
       "    </tr>\n",
       "    <tr>\n",
       "      <th>696</th>\n",
       "      <td>696</td>\n",
       "      <td>18.75</td>\n",
       "      <td>व्यासप्रसादाच्छ्रुतवानेतद्गुह्यमहं परम् ।\\r\\nय...</td>\n",
       "      <td>vyāsa-prasādāc chrutavān\\r\\netad guhyam ahaṁ p...</td>\n",
       "      <td>vyāsa prasādāt śrutavān etat guhyam aham param...</td>\n",
       "    </tr>\n",
       "    <tr>\n",
       "      <th>697</th>\n",
       "      <td>697</td>\n",
       "      <td>18.76</td>\n",
       "      <td>राजन्संस्मृत्य संस्मृत्य संवादमिममद्भुतम् ।\\r\\...</td>\n",
       "      <td>rājan saṁsmṛtya saṁsmṛtya\\r\\nsaṁvādam imam adb...</td>\n",
       "      <td>rājan saṁsmṛtya saṁsmṛtya saṁvādam imam adbhut...</td>\n",
       "    </tr>\n",
       "    <tr>\n",
       "      <th>698</th>\n",
       "      <td>698</td>\n",
       "      <td>18.77</td>\n",
       "      <td>तच्च संस्मृत्य संस्मृत्य रूपमत्यद्भुतं हरेः ।\\...</td>\n",
       "      <td>tac ca saṁsmṛtya saṁsmṛtya\\r\\nrūpam aty-adbhut...</td>\n",
       "      <td>tat ca saṁsmṛtya saṁsmṛtya rūpam ati adbhutam ...</td>\n",
       "    </tr>\n",
       "    <tr>\n",
       "      <th>699</th>\n",
       "      <td>699</td>\n",
       "      <td>18.78</td>\n",
       "      <td>यत्र योगेश्वरः कृष्णो यत्र पार्थो धनुर्धरः ।\\r...</td>\n",
       "      <td>yatra yogeśvaraḥ kṛṣṇo\\r\\nyatra pārtho dhanur-...</td>\n",
       "      <td>yatra yoga īśvaraḥ kṛṣṇaḥ yatra pārthaḥ dhanuḥ...</td>\n",
       "    </tr>\n",
       "  </tbody>\n",
       "</table>\n",
       "<p>700 rows × 5 columns</p>\n",
       "</div>"
      ],
      "text/plain": [
       "     Unnamed: 0  title                                         devanagari  \\\n",
       "0             0   1.10  धृतराष्ट्र उवाच ।\\r\\nधर्मक्षेत्रे कुरुक्षेत्रे...   \n",
       "1             1   1.20  सञ्जय उवाच ।\\r\\nदृष्ट्वा तु पाण्डवानीकं व्यूढं...   \n",
       "2             2   1.30  पश्यैतां पाण्डुपुत्राणामाचार्य महतीं चमूम् ।\\r...   \n",
       "3             3   1.40  अत्र शूरा महेष्वासा भीमार्जुनसमा युधि ।\\r\\nयुय...   \n",
       "4             4   1.50  धृष्टकेतुश्चेकितानः काशिराजश्च वीर्यवान् ।\\r\\n...   \n",
       "..          ...    ...                                                ...   \n",
       "695         695  18.74  संजय उवाच ।\\r\\nइत्यहं वासुदेवस्य पार्थस्य च मह...   \n",
       "696         696  18.75  व्यासप्रसादाच्छ्रुतवानेतद्गुह्यमहं परम् ।\\r\\nय...   \n",
       "697         697  18.76  राजन्संस्मृत्य संस्मृत्य संवादमिममद्भुतम् ।\\r\\...   \n",
       "698         698  18.77  तच्च संस्मृत्य संस्मृत्य रूपमत्यद्भुतं हरेः ।\\...   \n",
       "699         699  18.78  यत्र योगेश्वरः कृष्णो यत्र पार्थो धनुर्धरः ।\\r...   \n",
       "\n",
       "                                            verse_text  \\\n",
       "0    dhṛtarāṣṭra uvāca\\r\\ndharma-kṣetre kuru-kṣetre...   \n",
       "1    sañjaya uvāca\\r\\ndṛṣṭvā tu pāṇḍavānīkaṁ\\r\\nvyū...   \n",
       "2    paśyaitāṁ pāṇḍu-putrānām\\r\\nācārya mahatīṁ cam...   \n",
       "3    atra śūrā maheṣv-āsā\\r\\nbhīmārjuna-samā yudhi\\...   \n",
       "4    dhṛṣṭaketuś cekitānaḥ\\r\\nkāśirājaś ca vīryavān...   \n",
       "..                                                 ...   \n",
       "695  sañjaya uvāca\\r\\nity ahaṁ vāsudevasya\\r\\npārth...   \n",
       "696  vyāsa-prasādāc chrutavān\\r\\netad guhyam ahaṁ p...   \n",
       "697  rājan saṁsmṛtya saṁsmṛtya\\r\\nsaṁvādam imam adb...   \n",
       "698  tac ca saṁsmṛtya saṁsmṛtya\\r\\nrūpam aty-adbhut...   \n",
       "699  yatra yogeśvaraḥ kṛṣṇo\\r\\nyatra pārtho dhanur-...   \n",
       "\n",
       "                                 verse_text_no_samdhis  \n",
       "0    dhṛtarāṣṭraḥ uvāca dharma kṣetre kuru kṣetre s...  \n",
       "1    sañjayaḥ uvāca dṛṣṭvā tu pāṇḍava anīkam vyūḍha...  \n",
       "2    paśya etām pāṇḍu putrānām ācārya mahatīm camūm...  \n",
       "3    atra śūrāḥ mahā iṣu āsāḥ bhīma arjuna samāḥ yu...  \n",
       "4    dhṛṣṭaketuḥ cekitānaḥ kāśirājaḥ ca vīrya vān p...  \n",
       "..                                                 ...  \n",
       "695  sañjayaḥ uvāca iti aham vāsudevasya pārthasya ...  \n",
       "696  vyāsa prasādāt śrutavān etat guhyam aham param...  \n",
       "697  rājan saṁsmṛtya saṁsmṛtya saṁvādam imam adbhut...  \n",
       "698  tat ca saṁsmṛtya saṁsmṛtya rūpam ati adbhutam ...  \n",
       "699  yatra yoga īśvaraḥ kṛṣṇaḥ yatra pārthaḥ dhanuḥ...  \n",
       "\n",
       "[700 rows x 5 columns]"
      ]
     },
     "execution_count": 32,
     "metadata": {},
     "output_type": "execute_result"
    }
   ],
   "source": [
    "df=pd.read_csv('bhagavad-gita.csv')\n",
    "df"
   ]
  },
  {
   "cell_type": "code",
   "execution_count": 33,
   "id": "3eef75ce",
   "metadata": {},
   "outputs": [
    {
     "data": {
      "text/html": [
       "<div>\n",
       "<style scoped>\n",
       "    .dataframe tbody tr th:only-of-type {\n",
       "        vertical-align: middle;\n",
       "    }\n",
       "\n",
       "    .dataframe tbody tr th {\n",
       "        vertical-align: top;\n",
       "    }\n",
       "\n",
       "    .dataframe thead th {\n",
       "        text-align: right;\n",
       "    }\n",
       "</style>\n",
       "<table border=\"1\" class=\"dataframe\">\n",
       "  <thead>\n",
       "    <tr style=\"text-align: right;\">\n",
       "      <th></th>\n",
       "      <th>title</th>\n",
       "      <th>devanagari</th>\n",
       "      <th>verse_text</th>\n",
       "      <th>verse_text_no_samdhis</th>\n",
       "    </tr>\n",
       "  </thead>\n",
       "  <tbody>\n",
       "    <tr>\n",
       "      <th>0</th>\n",
       "      <td>1.10</td>\n",
       "      <td>धृतराष्ट्र उवाच ।\\r\\nधर्मक्षेत्रे कुरुक्षेत्रे...</td>\n",
       "      <td>dhṛtarāṣṭra uvāca\\r\\ndharma-kṣetre kuru-kṣetre...</td>\n",
       "      <td>dhṛtarāṣṭraḥ uvāca dharma kṣetre kuru kṣetre s...</td>\n",
       "    </tr>\n",
       "    <tr>\n",
       "      <th>1</th>\n",
       "      <td>1.20</td>\n",
       "      <td>सञ्जय उवाच ।\\r\\nदृष्ट्वा तु पाण्डवानीकं व्यूढं...</td>\n",
       "      <td>sañjaya uvāca\\r\\ndṛṣṭvā tu pāṇḍavānīkaṁ\\r\\nvyū...</td>\n",
       "      <td>sañjayaḥ uvāca dṛṣṭvā tu pāṇḍava anīkam vyūḍha...</td>\n",
       "    </tr>\n",
       "    <tr>\n",
       "      <th>2</th>\n",
       "      <td>1.30</td>\n",
       "      <td>पश्यैतां पाण्डुपुत्राणामाचार्य महतीं चमूम् ।\\r...</td>\n",
       "      <td>paśyaitāṁ pāṇḍu-putrānām\\r\\nācārya mahatīṁ cam...</td>\n",
       "      <td>paśya etām pāṇḍu putrānām ācārya mahatīm camūm...</td>\n",
       "    </tr>\n",
       "    <tr>\n",
       "      <th>3</th>\n",
       "      <td>1.40</td>\n",
       "      <td>अत्र शूरा महेष्वासा भीमार्जुनसमा युधि ।\\r\\nयुय...</td>\n",
       "      <td>atra śūrā maheṣv-āsā\\r\\nbhīmārjuna-samā yudhi\\...</td>\n",
       "      <td>atra śūrāḥ mahā iṣu āsāḥ bhīma arjuna samāḥ yu...</td>\n",
       "    </tr>\n",
       "    <tr>\n",
       "      <th>4</th>\n",
       "      <td>1.50</td>\n",
       "      <td>धृष्टकेतुश्चेकितानः काशिराजश्च वीर्यवान् ।\\r\\n...</td>\n",
       "      <td>dhṛṣṭaketuś cekitānaḥ\\r\\nkāśirājaś ca vīryavān...</td>\n",
       "      <td>dhṛṣṭaketuḥ cekitānaḥ kāśirājaḥ ca vīrya vān p...</td>\n",
       "    </tr>\n",
       "    <tr>\n",
       "      <th>...</th>\n",
       "      <td>...</td>\n",
       "      <td>...</td>\n",
       "      <td>...</td>\n",
       "      <td>...</td>\n",
       "    </tr>\n",
       "    <tr>\n",
       "      <th>695</th>\n",
       "      <td>18.74</td>\n",
       "      <td>संजय उवाच ।\\r\\nइत्यहं वासुदेवस्य पार्थस्य च मह...</td>\n",
       "      <td>sañjaya uvāca\\r\\nity ahaṁ vāsudevasya\\r\\npārth...</td>\n",
       "      <td>sañjayaḥ uvāca iti aham vāsudevasya pārthasya ...</td>\n",
       "    </tr>\n",
       "    <tr>\n",
       "      <th>696</th>\n",
       "      <td>18.75</td>\n",
       "      <td>व्यासप्रसादाच्छ्रुतवानेतद्गुह्यमहं परम् ।\\r\\nय...</td>\n",
       "      <td>vyāsa-prasādāc chrutavān\\r\\netad guhyam ahaṁ p...</td>\n",
       "      <td>vyāsa prasādāt śrutavān etat guhyam aham param...</td>\n",
       "    </tr>\n",
       "    <tr>\n",
       "      <th>697</th>\n",
       "      <td>18.76</td>\n",
       "      <td>राजन्संस्मृत्य संस्मृत्य संवादमिममद्भुतम् ।\\r\\...</td>\n",
       "      <td>rājan saṁsmṛtya saṁsmṛtya\\r\\nsaṁvādam imam adb...</td>\n",
       "      <td>rājan saṁsmṛtya saṁsmṛtya saṁvādam imam adbhut...</td>\n",
       "    </tr>\n",
       "    <tr>\n",
       "      <th>698</th>\n",
       "      <td>18.77</td>\n",
       "      <td>तच्च संस्मृत्य संस्मृत्य रूपमत्यद्भुतं हरेः ।\\...</td>\n",
       "      <td>tac ca saṁsmṛtya saṁsmṛtya\\r\\nrūpam aty-adbhut...</td>\n",
       "      <td>tat ca saṁsmṛtya saṁsmṛtya rūpam ati adbhutam ...</td>\n",
       "    </tr>\n",
       "    <tr>\n",
       "      <th>699</th>\n",
       "      <td>18.78</td>\n",
       "      <td>यत्र योगेश्वरः कृष्णो यत्र पार्थो धनुर्धरः ।\\r...</td>\n",
       "      <td>yatra yogeśvaraḥ kṛṣṇo\\r\\nyatra pārtho dhanur-...</td>\n",
       "      <td>yatra yoga īśvaraḥ kṛṣṇaḥ yatra pārthaḥ dhanuḥ...</td>\n",
       "    </tr>\n",
       "  </tbody>\n",
       "</table>\n",
       "<p>700 rows × 4 columns</p>\n",
       "</div>"
      ],
      "text/plain": [
       "     title                                         devanagari  \\\n",
       "0     1.10  धृतराष्ट्र उवाच ।\\r\\nधर्मक्षेत्रे कुरुक्षेत्रे...   \n",
       "1     1.20  सञ्जय उवाच ।\\r\\nदृष्ट्वा तु पाण्डवानीकं व्यूढं...   \n",
       "2     1.30  पश्यैतां पाण्डुपुत्राणामाचार्य महतीं चमूम् ।\\r...   \n",
       "3     1.40  अत्र शूरा महेष्वासा भीमार्जुनसमा युधि ।\\r\\nयुय...   \n",
       "4     1.50  धृष्टकेतुश्चेकितानः काशिराजश्च वीर्यवान् ।\\r\\n...   \n",
       "..     ...                                                ...   \n",
       "695  18.74  संजय उवाच ।\\r\\nइत्यहं वासुदेवस्य पार्थस्य च मह...   \n",
       "696  18.75  व्यासप्रसादाच्छ्रुतवानेतद्गुह्यमहं परम् ।\\r\\nय...   \n",
       "697  18.76  राजन्संस्मृत्य संस्मृत्य संवादमिममद्भुतम् ।\\r\\...   \n",
       "698  18.77  तच्च संस्मृत्य संस्मृत्य रूपमत्यद्भुतं हरेः ।\\...   \n",
       "699  18.78  यत्र योगेश्वरः कृष्णो यत्र पार्थो धनुर्धरः ।\\r...   \n",
       "\n",
       "                                            verse_text  \\\n",
       "0    dhṛtarāṣṭra uvāca\\r\\ndharma-kṣetre kuru-kṣetre...   \n",
       "1    sañjaya uvāca\\r\\ndṛṣṭvā tu pāṇḍavānīkaṁ\\r\\nvyū...   \n",
       "2    paśyaitāṁ pāṇḍu-putrānām\\r\\nācārya mahatīṁ cam...   \n",
       "3    atra śūrā maheṣv-āsā\\r\\nbhīmārjuna-samā yudhi\\...   \n",
       "4    dhṛṣṭaketuś cekitānaḥ\\r\\nkāśirājaś ca vīryavān...   \n",
       "..                                                 ...   \n",
       "695  sañjaya uvāca\\r\\nity ahaṁ vāsudevasya\\r\\npārth...   \n",
       "696  vyāsa-prasādāc chrutavān\\r\\netad guhyam ahaṁ p...   \n",
       "697  rājan saṁsmṛtya saṁsmṛtya\\r\\nsaṁvādam imam adb...   \n",
       "698  tac ca saṁsmṛtya saṁsmṛtya\\r\\nrūpam aty-adbhut...   \n",
       "699  yatra yogeśvaraḥ kṛṣṇo\\r\\nyatra pārtho dhanur-...   \n",
       "\n",
       "                                 verse_text_no_samdhis  \n",
       "0    dhṛtarāṣṭraḥ uvāca dharma kṣetre kuru kṣetre s...  \n",
       "1    sañjayaḥ uvāca dṛṣṭvā tu pāṇḍava anīkam vyūḍha...  \n",
       "2    paśya etām pāṇḍu putrānām ācārya mahatīm camūm...  \n",
       "3    atra śūrāḥ mahā iṣu āsāḥ bhīma arjuna samāḥ yu...  \n",
       "4    dhṛṣṭaketuḥ cekitānaḥ kāśirājaḥ ca vīrya vān p...  \n",
       "..                                                 ...  \n",
       "695  sañjayaḥ uvāca iti aham vāsudevasya pārthasya ...  \n",
       "696  vyāsa prasādāt śrutavān etat guhyam aham param...  \n",
       "697  rājan saṁsmṛtya saṁsmṛtya saṁvādam imam adbhut...  \n",
       "698  tat ca saṁsmṛtya saṁsmṛtya rūpam ati adbhutam ...  \n",
       "699  yatra yoga īśvaraḥ kṛṣṇaḥ yatra pārthaḥ dhanuḥ...  \n",
       "\n",
       "[700 rows x 4 columns]"
      ]
     },
     "execution_count": 33,
     "metadata": {},
     "output_type": "execute_result"
    }
   ],
   "source": [
    "df.drop(df.columns[[0]],axis=1,inplace=True)\n",
    "df"
   ]
  },
  {
   "cell_type": "code",
   "execution_count": 11,
   "id": "40071c70",
   "metadata": {},
   "outputs": [
    {
     "data": {
      "text/plain": [
       "title                    float64\n",
       "devanagari                object\n",
       "verse_text                object\n",
       "verse_text_no_samdhis     object\n",
       "dtype: object"
      ]
     },
     "execution_count": 11,
     "metadata": {},
     "output_type": "execute_result"
    }
   ],
   "source": [
    "df.dtypes"
   ]
  },
  {
   "cell_type": "code",
   "execution_count": 12,
   "id": "9fadeff9",
   "metadata": {},
   "outputs": [
    {
     "data": {
      "text/html": [
       "<div>\n",
       "<style scoped>\n",
       "    .dataframe tbody tr th:only-of-type {\n",
       "        vertical-align: middle;\n",
       "    }\n",
       "\n",
       "    .dataframe tbody tr th {\n",
       "        vertical-align: top;\n",
       "    }\n",
       "\n",
       "    .dataframe thead th {\n",
       "        text-align: right;\n",
       "    }\n",
       "</style>\n",
       "<table border=\"1\" class=\"dataframe\">\n",
       "  <thead>\n",
       "    <tr style=\"text-align: right;\">\n",
       "      <th></th>\n",
       "      <th>title</th>\n",
       "    </tr>\n",
       "  </thead>\n",
       "  <tbody>\n",
       "    <tr>\n",
       "      <th>count</th>\n",
       "      <td>700.000000</td>\n",
       "    </tr>\n",
       "    <tr>\n",
       "      <th>mean</th>\n",
       "      <td>9.359071</td>\n",
       "    </tr>\n",
       "    <tr>\n",
       "      <th>std</th>\n",
       "      <td>5.593784</td>\n",
       "    </tr>\n",
       "    <tr>\n",
       "      <th>min</th>\n",
       "      <td>1.100000</td>\n",
       "    </tr>\n",
       "    <tr>\n",
       "      <th>25%</th>\n",
       "      <td>4.217500</td>\n",
       "    </tr>\n",
       "    <tr>\n",
       "      <th>50%</th>\n",
       "      <td>9.205000</td>\n",
       "    </tr>\n",
       "    <tr>\n",
       "      <th>75%</th>\n",
       "      <td>14.102500</td>\n",
       "    </tr>\n",
       "    <tr>\n",
       "      <th>max</th>\n",
       "      <td>18.900000</td>\n",
       "    </tr>\n",
       "  </tbody>\n",
       "</table>\n",
       "</div>"
      ],
      "text/plain": [
       "            title\n",
       "count  700.000000\n",
       "mean     9.359071\n",
       "std      5.593784\n",
       "min      1.100000\n",
       "25%      4.217500\n",
       "50%      9.205000\n",
       "75%     14.102500\n",
       "max     18.900000"
      ]
     },
     "execution_count": 12,
     "metadata": {},
     "output_type": "execute_result"
    }
   ],
   "source": [
    "#get some stats on data \n",
    "df.describe()"
   ]
  },
  {
   "cell_type": "code",
   "execution_count": 15,
   "id": "129934f0",
   "metadata": {},
   "outputs": [],
   "source": [
    "title_no=df['title'].astype(int)\n",
    "list_count=title_no.value_counts()"
   ]
  },
  {
   "cell_type": "code",
   "execution_count": 20,
   "id": "53b1af11",
   "metadata": {},
   "outputs": [
    {
     "data": {
      "text/plain": [
       "18    78\n",
       "2     72\n",
       "11    55\n",
       "6     47\n",
       "1     46\n",
       "3     43\n",
       "4     42\n",
       "10    42\n",
       "13    35\n",
       "9     34\n",
       "7     30\n",
       "5     29\n",
       "8     28\n",
       "17    28\n",
       "14    27\n",
       "16    24\n",
       "12    20\n",
       "15    20\n",
       "Name: title, dtype: int64"
      ]
     },
     "execution_count": 20,
     "metadata": {},
     "output_type": "execute_result"
    }
   ],
   "source": [
    "list_count"
   ]
  },
  {
   "cell_type": "code",
   "execution_count": 16,
   "id": "ddf68579",
   "metadata": {},
   "outputs": [
    {
     "data": {
      "text/plain": [
       "dtype('int64')"
      ]
     },
     "execution_count": 16,
     "metadata": {},
     "output_type": "execute_result"
    }
   ],
   "source": [
    "list_count.dtype"
   ]
  },
  {
   "cell_type": "code",
   "execution_count": 17,
   "id": "77226ae6",
   "metadata": {},
   "outputs": [
    {
     "data": {
      "text/plain": [
       "700"
      ]
     },
     "execution_count": 17,
     "metadata": {},
     "output_type": "execute_result"
    }
   ],
   "source": [
    "list_count.sum()"
   ]
  },
  {
   "cell_type": "code",
   "execution_count": 18,
   "id": "f7878730",
   "metadata": {},
   "outputs": [
    {
     "data": {
      "text/plain": [
       "count    18.000000\n",
       "mean     38.888889\n",
       "std      16.391852\n",
       "min      20.000000\n",
       "25%      28.000000\n",
       "50%      34.500000\n",
       "75%      45.250000\n",
       "max      78.000000\n",
       "Name: title, dtype: float64"
      ]
     },
     "execution_count": 18,
     "metadata": {},
     "output_type": "execute_result"
    }
   ],
   "source": [
    "list_count.describe()"
   ]
  },
  {
   "cell_type": "markdown",
   "id": "2f2bc95c",
   "metadata": {},
   "source": [
    "In Bhagavad Gita (from above anlaysis):\n",
    "It has a total of 18 chapters.\n",
    "On an average there are 38 verses in a chapter.\n",
    "There are a total of 700 verses in it.\n",
    "Least number of verses are 20 in a any chapter.\n",
    "Maximun number of verses are 78 in a chapter."
   ]
  },
  {
   "cell_type": "code",
   "execution_count": 19,
   "id": "48d21e0d",
   "metadata": {},
   "outputs": [
    {
     "name": "stderr",
     "output_type": "stream",
     "text": [
      "/Users/srikar/opt/anaconda3/lib/python3.9/site-packages/seaborn/_decorators.py:36: FutureWarning: Pass the following variable as a keyword arg: x. From version 0.12, the only valid positional argument will be `data`, and passing other arguments without an explicit keyword will result in an error or misinterpretation.\n",
      "  warnings.warn(\n"
     ]
    },
    {
     "data": {
      "image/png": "[encoded data removed]",
      "text/plain": [
       "<Figure size 432x288 with 1 Axes>"
      ]
     },
     "metadata": {
      "needs_background": "light"
     },
     "output_type": "display_data"
    }
   ],
   "source": [
    "#data Visualization \n",
    "\n",
    "sns.countplot(list_count)\n",
    "plt.xlabel(\"Number of verses\", fontsize=18)\n",
    "plt.ylabel(\"Counts (Chapter(s))\", fontsize=18)\n",
    "\n",
    "# Displaying the plot\n",
    "plt.show()\n"
   ]
  },
  {
   "cell_type": "markdown",
   "id": "c22f2629",
   "metadata": {},
   "source": [
    "There are two chapters with 20 number of verses in them, another two chapters have 28 number of verses and two more chapters which has 42 numbers of verses in it. Rest of the chapters have distinct number of verses in them."
   ]
  },
  {
   "cell_type": "code",
   "execution_count": 21,
   "id": "55fc5313",
   "metadata": {},
   "outputs": [
    {
     "name": "stderr",
     "output_type": "stream",
     "text": [
      "/Users/srikar/opt/anaconda3/lib/python3.9/site-packages/seaborn/_decorators.py:36: FutureWarning: Pass the following variable as a keyword arg: x. From version 0.12, the only valid positional argument will be `data`, and passing other arguments without an explicit keyword will result in an error or misinterpretation.\n",
      "  warnings.warn(\n"
     ]
    },
    {
     "data": {
      "image/png": "[encoded data removed]",
      "text/plain": [
       "<Figure size 432x288 with 1 Axes>"
      ]
     },
     "metadata": {
      "needs_background": "light"
     },
     "output_type": "display_data"
    }
   ],
   "source": [
    "sns.countplot(title_no)\n",
    "plt.xlabel('chapters')\n",
    "plt.ylabel('Number of verses')\n",
    "plt.show()"
   ]
  },
  {
   "cell_type": "markdown",
   "id": "5ab8bba6",
   "metadata": {},
   "source": [
    "Highest number of verses are in the last chapter, i.e chapter 18. And the lowest number of verses are in chapter 12."
   ]
  },
  {
   "cell_type": "markdown",
   "id": "594c54fa",
   "metadata": {},
   "source": [
    "Grouping words\n",
    "With word cloud we will have a look at the most used words in Gita."
   ]
  },
  {
   "cell_type": "code",
   "execution_count": 22,
   "id": "7041f6c0",
   "metadata": {},
   "outputs": [],
   "source": [
    "stopwords = set(STOPWORDS)"
   ]
  },
  {
   "cell_type": "code",
   "execution_count": 23,
   "id": "9a47cfc6",
   "metadata": {},
   "outputs": [],
   "source": [
    "data = df['verse_text']"
   ]
  },
  {
   "cell_type": "code",
   "execution_count": 24,
   "id": "912ca64a",
   "metadata": {},
   "outputs": [
    {
     "data": {
      "text/plain": [
       "0    dhṛtarāṣṭra uvāca\\r\\ndharma-kṣetre kuru-kṣetre...\n",
       "1    sañjaya uvāca\\r\\ndṛṣṭvā tu pāṇḍavānīkaṁ\\r\\nvyū...\n",
       "2    paśyaitāṁ pāṇḍu-putrānām\\r\\nācārya mahatīṁ cam...\n",
       "3    atra śūrā maheṣv-āsā\\r\\nbhīmārjuna-samā yudhi\\...\n",
       "4    dhṛṣṭaketuś cekitānaḥ\\r\\nkāśirājaś ca vīryavān...\n",
       "Name: verse_text, dtype: object"
      ]
     },
     "execution_count": 24,
     "metadata": {},
     "output_type": "execute_result"
    }
   ],
   "source": [
    "data.head()"
   ]
  },
  {
   "cell_type": "code",
   "execution_count": 25,
   "id": "fafe3668",
   "metadata": {},
   "outputs": [
    {
     "data": {
      "image/png": "[encoded data removed]",
      "text/plain": [
       "<Figure size 432x288 with 1 Axes>"
      ]
     },
     "metadata": {
      "needs_background": "light"
     },
     "output_type": "display_data"
    }
   ],
   "source": [
    "wordcloud = WordCloud(width=1300, height=600, stopwords=stopwords).generate(str(data))\n",
    "plt.imshow(wordcloud, interpolation='bilinear')\n",
    "plt.axis('off')\n",
    "plt.tight_layout(pad=0)\n",
    "plt.show()\n"
   ]
  }
 ],
 "metadata": {
  "kernelspec": {
   "display_name": "Python 3 (ipykernel)",
   "language": "python",
   "name": "python3"
  },
  "language_info": {
   "codemirror_mode": {
    "name": "ipython",
    "version": 3
   },
   "file_extension": ".py",
   "mimetype": "text/x-python",
   "name": "python",
   "nbconvert_exporter": "python",
   "pygments_lexer": "ipython3",
   "version": "3.9.12"
  }
 },
 "nbformat": 4,
 "nbformat_minor": 5
}
