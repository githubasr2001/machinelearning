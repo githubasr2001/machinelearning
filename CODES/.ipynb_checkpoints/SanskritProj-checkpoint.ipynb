{
 "cells": [
  {
   "cell_type": "code",
   "execution_count": 3,
   "id": "b97dc4d7",
   "metadata": {},
   "outputs": [
    {
     "name": "stdout",
     "output_type": "stream",
     "text": [
      "Requirement already satisfied: googletrans==3.1.0a0 in /Users/srikar/opt/anaconda3/lib/python3.9/site-packages (3.1.0a0)\n",
      "Requirement already satisfied: httpx==0.13.3 in /Users/srikar/opt/anaconda3/lib/python3.9/site-packages (from googletrans==3.1.0a0) (0.13.3)\n",
      "Requirement already satisfied: chardet==3.* in /Users/srikar/opt/anaconda3/lib/python3.9/site-packages (from httpx==0.13.3->googletrans==3.1.0a0) (3.0.4)\n",
      "Requirement already satisfied: hstspreload in /Users/srikar/opt/anaconda3/lib/python3.9/site-packages (from httpx==0.13.3->googletrans==3.1.0a0) (2022.12.1)\n",
      "Requirement already satisfied: sniffio in /Users/srikar/opt/anaconda3/lib/python3.9/site-packages (from httpx==0.13.3->googletrans==3.1.0a0) (1.2.0)\n",
      "Requirement already satisfied: httpcore==0.9.* in /Users/srikar/opt/anaconda3/lib/python3.9/site-packages (from httpx==0.13.3->googletrans==3.1.0a0) (0.9.1)\n",
      "Requirement already satisfied: certifi in /Users/srikar/opt/anaconda3/lib/python3.9/site-packages (from httpx==0.13.3->googletrans==3.1.0a0) (2021.10.8)\n",
      "Requirement already satisfied: rfc3986<2,>=1.3 in /Users/srikar/opt/anaconda3/lib/python3.9/site-packages (from httpx==0.13.3->googletrans==3.1.0a0) (1.5.0)\n",
      "Requirement already satisfied: idna==2.* in /Users/srikar/opt/anaconda3/lib/python3.9/site-packages (from httpx==0.13.3->googletrans==3.1.0a0) (2.10)\n",
      "Requirement already satisfied: h11<0.10,>=0.8 in /Users/srikar/opt/anaconda3/lib/python3.9/site-packages (from httpcore==0.9.*->httpx==0.13.3->googletrans==3.1.0a0) (0.9.0)\n",
      "Requirement already satisfied: h2==3.* in /Users/srikar/opt/anaconda3/lib/python3.9/site-packages (from httpcore==0.9.*->httpx==0.13.3->googletrans==3.1.0a0) (3.2.0)\n",
      "Requirement already satisfied: hyperframe<6,>=5.2.0 in /Users/srikar/opt/anaconda3/lib/python3.9/site-packages (from h2==3.*->httpcore==0.9.*->httpx==0.13.3->googletrans==3.1.0a0) (5.2.0)\n",
      "Requirement already satisfied: hpack<4,>=3.0 in /Users/srikar/opt/anaconda3/lib/python3.9/site-packages (from h2==3.*->httpcore==0.9.*->httpx==0.13.3->googletrans==3.1.0a0) (3.0.0)\n",
      "Note: you may need to restart the kernel to use updated packages.\n"
     ]
    }
   ],
   "source": [
    "pip install googletrans==3.1.0a0"
   ]
  },
  {
   "cell_type": "code",
   "execution_count": 14,
   "id": "cbf22a72",
   "metadata": {},
   "outputs": [],
   "source": [
    "import pandas as pd\n",
    "import numpy as np \n",
    "import matplotlib.pyplot as plt\n",
    "import googletrans\n",
    "from googletrans import Translator\n",
    "from googletrans import LANGUAGES \n",
    "from wordcloud import WordCloud,STOPWORDS"
   ]
  },
  {
   "cell_type": "code",
   "execution_count": 18,
   "id": "212d13c2",
   "metadata": {},
   "outputs": [
    {
     "data": {
      "text/html": [
       "<div>\n",
       "<style scoped>\n",
       "    .dataframe tbody tr th:only-of-type {\n",
       "        vertical-align: middle;\n",
       "    }\n",
       "\n",
       "    .dataframe tbody tr th {\n",
       "        vertical-align: top;\n",
       "    }\n",
       "\n",
       "    .dataframe thead th {\n",
       "        text-align: right;\n",
       "    }\n",
       "</style>\n",
       "<table border=\"1\" class=\"dataframe\">\n",
       "  <thead>\n",
       "    <tr style=\"text-align: right;\">\n",
       "      <th></th>\n",
       "      <th>adhyaya</th>\n",
       "      <th>pada</th>\n",
       "      <th>sutra num</th>\n",
       "      <th>sutra</th>\n",
       "    </tr>\n",
       "  </thead>\n",
       "  <tbody>\n",
       "    <tr>\n",
       "      <th>0</th>\n",
       "      <td>1.0</td>\n",
       "      <td>1.1</td>\n",
       "      <td>1.1.1</td>\n",
       "      <td>वृद्धिरादैच्</td>\n",
       "    </tr>\n",
       "    <tr>\n",
       "      <th>1</th>\n",
       "      <td>NaN</td>\n",
       "      <td>1.1</td>\n",
       "      <td>1.1.2</td>\n",
       "      <td>अदेङ् गुणः</td>\n",
       "    </tr>\n",
       "    <tr>\n",
       "      <th>2</th>\n",
       "      <td>NaN</td>\n",
       "      <td>1.1</td>\n",
       "      <td>1.1.3</td>\n",
       "      <td>इको गुणवृद्धी</td>\n",
       "    </tr>\n",
       "    <tr>\n",
       "      <th>3</th>\n",
       "      <td>NaN</td>\n",
       "      <td>1.1</td>\n",
       "      <td>1.1.4</td>\n",
       "      <td>न धातुलोप आर्धधातुके</td>\n",
       "    </tr>\n",
       "    <tr>\n",
       "      <th>4</th>\n",
       "      <td>NaN</td>\n",
       "      <td>1.1</td>\n",
       "      <td>1.1.5</td>\n",
       "      <td>क्क्ङिति च</td>\n",
       "    </tr>\n",
       "    <tr>\n",
       "      <th>...</th>\n",
       "      <td>...</td>\n",
       "      <td>...</td>\n",
       "      <td>...</td>\n",
       "      <td>...</td>\n",
       "    </tr>\n",
       "    <tr>\n",
       "      <th>3978</th>\n",
       "      <td>NaN</td>\n",
       "      <td>8.4</td>\n",
       "      <td>8.4.64</td>\n",
       "      <td>हलो यमां यमि लोपः</td>\n",
       "    </tr>\n",
       "    <tr>\n",
       "      <th>3979</th>\n",
       "      <td>NaN</td>\n",
       "      <td>8.4</td>\n",
       "      <td>8.4.65</td>\n",
       "      <td>झरो झरि सवर्णे</td>\n",
       "    </tr>\n",
       "    <tr>\n",
       "      <th>3980</th>\n",
       "      <td>NaN</td>\n",
       "      <td>8.4</td>\n",
       "      <td>8.4.66</td>\n",
       "      <td>उदात्तादनुदात्तस्य स्वरितः</td>\n",
       "    </tr>\n",
       "    <tr>\n",
       "      <th>3981</th>\n",
       "      <td>NaN</td>\n",
       "      <td>8.4</td>\n",
       "      <td>8.4.67</td>\n",
       "      <td>नोदात्तस्वरितोदयमगार्ग्यकाश्यपगालवानाम्‌</td>\n",
       "    </tr>\n",
       "    <tr>\n",
       "      <th>3982</th>\n",
       "      <td>NaN</td>\n",
       "      <td>8.4</td>\n",
       "      <td>8.4.68</td>\n",
       "      <td>अ अ इति</td>\n",
       "    </tr>\n",
       "  </tbody>\n",
       "</table>\n",
       "<p>3983 rows × 4 columns</p>\n",
       "</div>"
      ],
      "text/plain": [
       "      adhyaya  pada sutra num                                     sutra\n",
       "0         1.0   1.1     1.1.1                              वृद्धिरादैच्\n",
       "1         NaN   1.1     1.1.2                                अदेङ् गुणः\n",
       "2         NaN   1.1     1.1.3                             इको गुणवृद्धी\n",
       "3         NaN   1.1     1.1.4                      न धातुलोप आर्धधातुके\n",
       "4         NaN   1.1     1.1.5                                क्क्ङिति च\n",
       "...       ...   ...       ...                                       ...\n",
       "3978      NaN   8.4    8.4.64                         हलो यमां यमि लोपः\n",
       "3979      NaN   8.4    8.4.65                            झरो झरि सवर्णे\n",
       "3980      NaN   8.4    8.4.66                उदात्तादनुदात्तस्य स्वरितः\n",
       "3981      NaN   8.4    8.4.67  नोदात्तस्वरितोदयमगार्ग्यकाश्यपगालवानाम्‌\n",
       "3982      NaN   8.4    8.4.68                                   अ अ इति\n",
       "\n",
       "[3983 rows x 4 columns]"
      ]
     },
     "execution_count": 18,
     "metadata": {},
     "output_type": "execute_result"
    }
   ],
   "source": [
    "df=pd.read_csv(\"Ashtadhyayi.csv\")\n",
    "df"
   ]
  },
  {
   "cell_type": "code",
   "execution_count": 19,
   "id": "5ea36647",
   "metadata": {},
   "outputs": [
    {
     "name": "stderr",
     "output_type": "stream",
     "text": [
      "/var/folders/j9/nxw6tr6x2630lrfnp_vmnv0m0000gn/T/ipykernel_7691/2392459018.py:1: SettingWithCopyWarning: \n",
      "A value is trying to be set on a copy of a slice from a DataFrame\n",
      "\n",
      "See the caveats in the documentation: https://pandas.pydata.org/pandas-docs/stable/user_guide/indexing.html#returning-a-view-versus-a-copy\n",
      "  df['adhyaya'].iloc[0:353]=df['adhyaya'].iloc[0:353].fillna(1)\n",
      "/var/folders/j9/nxw6tr6x2630lrfnp_vmnv0m0000gn/T/ipykernel_7691/2392459018.py:2: SettingWithCopyWarning: \n",
      "A value is trying to be set on a copy of a slice from a DataFrame\n",
      "\n",
      "See the caveats in the documentation: https://pandas.pydata.org/pandas-docs/stable/user_guide/indexing.html#returning-a-view-versus-a-copy\n",
      "  df['adhyaya'].iloc[353:621]=df['adhyaya'].iloc[353:621].fillna(2)\n",
      "/var/folders/j9/nxw6tr6x2630lrfnp_vmnv0m0000gn/T/ipykernel_7691/2392459018.py:3: SettingWithCopyWarning: \n",
      "A value is trying to be set on a copy of a slice from a DataFrame\n",
      "\n",
      "See the caveats in the documentation: https://pandas.pydata.org/pandas-docs/stable/user_guide/indexing.html#returning-a-view-versus-a-copy\n",
      "  df['adhyaya'].iloc[621:1252]=df['adhyaya'].iloc[621:1252].fillna(3)\n",
      "/var/folders/j9/nxw6tr6x2630lrfnp_vmnv0m0000gn/T/ipykernel_7691/2392459018.py:4: SettingWithCopyWarning: \n",
      "A value is trying to be set on a copy of a slice from a DataFrame\n",
      "\n",
      "See the caveats in the documentation: https://pandas.pydata.org/pandas-docs/stable/user_guide/indexing.html#returning-a-view-versus-a-copy\n",
      "  df['adhyaya'].iloc[1252:1887]=df['adhyaya'].iloc[1252:1887].fillna(4)\n",
      "/var/folders/j9/nxw6tr6x2630lrfnp_vmnv0m0000gn/T/ipykernel_7691/2392459018.py:5: SettingWithCopyWarning: \n",
      "A value is trying to be set on a copy of a slice from a DataFrame\n",
      "\n",
      "See the caveats in the documentation: https://pandas.pydata.org/pandas-docs/stable/user_guide/indexing.html#returning-a-view-versus-a-copy\n",
      "  df['adhyaya'].iloc[1887:2442]=df['adhyaya'].iloc[1887:2442].fillna(5)\n",
      "/var/folders/j9/nxw6tr6x2630lrfnp_vmnv0m0000gn/T/ipykernel_7691/2392459018.py:6: SettingWithCopyWarning: \n",
      "A value is trying to be set on a copy of a slice from a DataFrame\n",
      "\n",
      "See the caveats in the documentation: https://pandas.pydata.org/pandas-docs/stable/user_guide/indexing.html#returning-a-view-versus-a-copy\n",
      "  df['adhyaya'].iloc[2442:3178]=df['adhyaya'].iloc[2442:3178].fillna(6)\n",
      "/var/folders/j9/nxw6tr6x2630lrfnp_vmnv0m0000gn/T/ipykernel_7691/2392459018.py:7: SettingWithCopyWarning: \n",
      "A value is trying to be set on a copy of a slice from a DataFrame\n",
      "\n",
      "See the caveats in the documentation: https://pandas.pydata.org/pandas-docs/stable/user_guide/indexing.html#returning-a-view-versus-a-copy\n",
      "  df['adhyaya'].iloc[3178:3616]=df['adhyaya'].iloc[3178:3616].fillna(7)\n",
      "/var/folders/j9/nxw6tr6x2630lrfnp_vmnv0m0000gn/T/ipykernel_7691/2392459018.py:8: SettingWithCopyWarning: \n",
      "A value is trying to be set on a copy of a slice from a DataFrame\n",
      "\n",
      "See the caveats in the documentation: https://pandas.pydata.org/pandas-docs/stable/user_guide/indexing.html#returning-a-view-versus-a-copy\n",
      "  df['adhyaya'].iloc[3616:3985]=df['adhyaya'].iloc[3616:3985].fillna(8)\n"
     ]
    },
    {
     "data": {
      "text/html": [
       "<div>\n",
       "<style scoped>\n",
       "    .dataframe tbody tr th:only-of-type {\n",
       "        vertical-align: middle;\n",
       "    }\n",
       "\n",
       "    .dataframe tbody tr th {\n",
       "        vertical-align: top;\n",
       "    }\n",
       "\n",
       "    .dataframe thead th {\n",
       "        text-align: right;\n",
       "    }\n",
       "</style>\n",
       "<table border=\"1\" class=\"dataframe\">\n",
       "  <thead>\n",
       "    <tr style=\"text-align: right;\">\n",
       "      <th></th>\n",
       "      <th>adhyaya</th>\n",
       "      <th>pada</th>\n",
       "      <th>sutra num</th>\n",
       "      <th>sutra</th>\n",
       "    </tr>\n",
       "  </thead>\n",
       "  <tbody>\n",
       "    <tr>\n",
       "      <th>0</th>\n",
       "      <td>1.0</td>\n",
       "      <td>1.1</td>\n",
       "      <td>1.1.1</td>\n",
       "      <td>वृद्धिरादैच्</td>\n",
       "    </tr>\n",
       "    <tr>\n",
       "      <th>1</th>\n",
       "      <td>1.0</td>\n",
       "      <td>1.1</td>\n",
       "      <td>1.1.2</td>\n",
       "      <td>अदेङ् गुणः</td>\n",
       "    </tr>\n",
       "    <tr>\n",
       "      <th>2</th>\n",
       "      <td>1.0</td>\n",
       "      <td>1.1</td>\n",
       "      <td>1.1.3</td>\n",
       "      <td>इको गुणवृद्धी</td>\n",
       "    </tr>\n",
       "    <tr>\n",
       "      <th>3</th>\n",
       "      <td>1.0</td>\n",
       "      <td>1.1</td>\n",
       "      <td>1.1.4</td>\n",
       "      <td>न धातुलोप आर्धधातुके</td>\n",
       "    </tr>\n",
       "    <tr>\n",
       "      <th>4</th>\n",
       "      <td>1.0</td>\n",
       "      <td>1.1</td>\n",
       "      <td>1.1.5</td>\n",
       "      <td>क्क्ङिति च</td>\n",
       "    </tr>\n",
       "    <tr>\n",
       "      <th>...</th>\n",
       "      <td>...</td>\n",
       "      <td>...</td>\n",
       "      <td>...</td>\n",
       "      <td>...</td>\n",
       "    </tr>\n",
       "    <tr>\n",
       "      <th>3978</th>\n",
       "      <td>8.0</td>\n",
       "      <td>8.4</td>\n",
       "      <td>8.4.64</td>\n",
       "      <td>हलो यमां यमि लोपः</td>\n",
       "    </tr>\n",
       "    <tr>\n",
       "      <th>3979</th>\n",
       "      <td>8.0</td>\n",
       "      <td>8.4</td>\n",
       "      <td>8.4.65</td>\n",
       "      <td>झरो झरि सवर्णे</td>\n",
       "    </tr>\n",
       "    <tr>\n",
       "      <th>3980</th>\n",
       "      <td>8.0</td>\n",
       "      <td>8.4</td>\n",
       "      <td>8.4.66</td>\n",
       "      <td>उदात्तादनुदात्तस्य स्वरितः</td>\n",
       "    </tr>\n",
       "    <tr>\n",
       "      <th>3981</th>\n",
       "      <td>8.0</td>\n",
       "      <td>8.4</td>\n",
       "      <td>8.4.67</td>\n",
       "      <td>नोदात्तस्वरितोदयमगार्ग्यकाश्यपगालवानाम्‌</td>\n",
       "    </tr>\n",
       "    <tr>\n",
       "      <th>3982</th>\n",
       "      <td>8.0</td>\n",
       "      <td>8.4</td>\n",
       "      <td>8.4.68</td>\n",
       "      <td>अ अ इति</td>\n",
       "    </tr>\n",
       "  </tbody>\n",
       "</table>\n",
       "<p>3983 rows × 4 columns</p>\n",
       "</div>"
      ],
      "text/plain": [
       "      adhyaya  pada sutra num                                     sutra\n",
       "0         1.0   1.1     1.1.1                              वृद्धिरादैच्\n",
       "1         1.0   1.1     1.1.2                                अदेङ् गुणः\n",
       "2         1.0   1.1     1.1.3                             इको गुणवृद्धी\n",
       "3         1.0   1.1     1.1.4                      न धातुलोप आर्धधातुके\n",
       "4         1.0   1.1     1.1.5                                क्क्ङिति च\n",
       "...       ...   ...       ...                                       ...\n",
       "3978      8.0   8.4    8.4.64                         हलो यमां यमि लोपः\n",
       "3979      8.0   8.4    8.4.65                            झरो झरि सवर्णे\n",
       "3980      8.0   8.4    8.4.66                उदात्तादनुदात्तस्य स्वरितः\n",
       "3981      8.0   8.4    8.4.67  नोदात्तस्वरितोदयमगार्ग्यकाश्यपगालवानाम्‌\n",
       "3982      8.0   8.4    8.4.68                                   अ अ इति\n",
       "\n",
       "[3983 rows x 4 columns]"
      ]
     },
     "execution_count": 19,
     "metadata": {},
     "output_type": "execute_result"
    }
   ],
   "source": [
    "df['adhyaya'].iloc[0:353]=df['adhyaya'].iloc[0:353].fillna(1)\n",
    "df['adhyaya'].iloc[353:621]=df['adhyaya'].iloc[353:621].fillna(2)\n",
    "df['adhyaya'].iloc[621:1252]=df['adhyaya'].iloc[621:1252].fillna(3)\n",
    "df['adhyaya'].iloc[1252:1887]=df['adhyaya'].iloc[1252:1887].fillna(4)\n",
    "df['adhyaya'].iloc[1887:2442]=df['adhyaya'].iloc[1887:2442].fillna(5)\n",
    "df['adhyaya'].iloc[2442:3178]=df['adhyaya'].iloc[2442:3178].fillna(6)\n",
    "df['adhyaya'].iloc[3178:3616]=df['adhyaya'].iloc[3178:3616].fillna(7)\n",
    "df['adhyaya'].iloc[3616:3985]=df['adhyaya'].iloc[3616:3985].fillna(8)\n",
    "\n",
    "\n",
    "\n",
    "\n",
    "\n",
    "df"
   ]
  },
  {
   "cell_type": "code",
   "execution_count": 7,
   "id": "84a30427",
   "metadata": {},
   "outputs": [],
   "source": [
    "df.to_csv(\"NewDocAdhyayam.csv\")"
   ]
  },
  {
   "cell_type": "code",
   "execution_count": 8,
   "id": "e327e43a",
   "metadata": {},
   "outputs": [
    {
     "data": {
      "text/plain": [
       "0    1.1.1\n",
       "Name: sutra num, dtype: object"
      ]
     },
     "execution_count": 8,
     "metadata": {},
     "output_type": "execute_result"
    }
   ],
   "source": [
    "df['sutra num'][df['sutra']=='वृद्धिरादैच्']"
   ]
  },
  {
   "cell_type": "code",
   "execution_count": 9,
   "id": "46987f02",
   "metadata": {},
   "outputs": [
    {
     "data": {
      "text/plain": [
       "11"
      ]
     },
     "execution_count": 9,
     "metadata": {},
     "output_type": "execute_result"
    }
   ],
   "source": [
    "df['sutra num'][df['sutra']=='बहुलं छन्दसि'].value_counts().sum()"
   ]
  },
  {
   "cell_type": "code",
   "execution_count": 10,
   "id": "2eb8a2c8",
   "metadata": {},
   "outputs": [
    {
     "data": {
      "text/plain": [
       "0    3883\n",
       "1     100\n",
       "Name: count, dtype: int64"
      ]
     },
     "execution_count": 10,
     "metadata": {},
     "output_type": "execute_result"
    }
   ],
   "source": [
    "import re\n",
    "search =\"विभाषा\"\n",
    " \n",
    "# count of occurrence and creating new column\n",
    "df[\"count\"]= (df[\"sutra\"].str.count(search, re.I))\n",
    "df['count'].value_counts()"
   ]
  },
  {
   "cell_type": "code",
   "execution_count": 27,
   "id": "eefc2172",
   "metadata": {},
   "outputs": [],
   "source": [
    "translator=Translator()\n",
    "\n",
    "\n"
   ]
  },
  {
   "cell_type": "code",
   "execution_count": 20,
   "id": "4d633f15",
   "metadata": {},
   "outputs": [],
   "source": [
    "df2=df['sutra'].values"
   ]
  },
  {
   "cell_type": "code",
   "execution_count": 21,
   "id": "e86e3111",
   "metadata": {},
   "outputs": [
    {
     "data": {
      "text/html": [
       "<div>\n",
       "<style scoped>\n",
       "    .dataframe tbody tr th:only-of-type {\n",
       "        vertical-align: middle;\n",
       "    }\n",
       "\n",
       "    .dataframe tbody tr th {\n",
       "        vertical-align: top;\n",
       "    }\n",
       "\n",
       "    .dataframe thead th {\n",
       "        text-align: right;\n",
       "    }\n",
       "</style>\n",
       "<table border=\"1\" class=\"dataframe\">\n",
       "  <thead>\n",
       "    <tr style=\"text-align: right;\">\n",
       "      <th></th>\n",
       "      <th>Sanskrit</th>\n",
       "    </tr>\n",
       "  </thead>\n",
       "  <tbody>\n",
       "    <tr>\n",
       "      <th>0</th>\n",
       "      <td>वृद्धिरादैच्</td>\n",
       "    </tr>\n",
       "    <tr>\n",
       "      <th>1</th>\n",
       "      <td>अदेङ् गुणः</td>\n",
       "    </tr>\n",
       "    <tr>\n",
       "      <th>2</th>\n",
       "      <td>इको गुणवृद्धी</td>\n",
       "    </tr>\n",
       "    <tr>\n",
       "      <th>3</th>\n",
       "      <td>न धातुलोप आर्धधातुके</td>\n",
       "    </tr>\n",
       "    <tr>\n",
       "      <th>4</th>\n",
       "      <td>क्क्ङिति च</td>\n",
       "    </tr>\n",
       "    <tr>\n",
       "      <th>...</th>\n",
       "      <td>...</td>\n",
       "    </tr>\n",
       "    <tr>\n",
       "      <th>3978</th>\n",
       "      <td>हलो यमां यमि लोपः</td>\n",
       "    </tr>\n",
       "    <tr>\n",
       "      <th>3979</th>\n",
       "      <td>झरो झरि सवर्णे</td>\n",
       "    </tr>\n",
       "    <tr>\n",
       "      <th>3980</th>\n",
       "      <td>उदात्तादनुदात्तस्य स्वरितः</td>\n",
       "    </tr>\n",
       "    <tr>\n",
       "      <th>3981</th>\n",
       "      <td>नोदात्तस्वरितोदयमगार्ग्यकाश्यपगालवानाम्‌</td>\n",
       "    </tr>\n",
       "    <tr>\n",
       "      <th>3982</th>\n",
       "      <td>अ अ इति</td>\n",
       "    </tr>\n",
       "  </tbody>\n",
       "</table>\n",
       "<p>3983 rows × 1 columns</p>\n",
       "</div>"
      ],
      "text/plain": [
       "                                      Sanskrit\n",
       "0                                 वृद्धिरादैच्\n",
       "1                                   अदेङ् गुणः\n",
       "2                                इको गुणवृद्धी\n",
       "3                         न धातुलोप आर्धधातुके\n",
       "4                                   क्क्ङिति च\n",
       "...                                        ...\n",
       "3978                         हलो यमां यमि लोपः\n",
       "3979                            झरो झरि सवर्णे\n",
       "3980                उदात्तादनुदात्तस्य स्वरितः\n",
       "3981  नोदात्तस्वरितोदयमगार्ग्यकाश्यपगालवानाम्‌\n",
       "3982                                   अ अ इति\n",
       "\n",
       "[3983 rows x 1 columns]"
      ]
     },
     "execution_count": 21,
     "metadata": {},
     "output_type": "execute_result"
    }
   ],
   "source": [
    "dat={ 'Sanskrit':df2}\n",
    "dat1=pd.DataFrame(dat)\n",
    "dat1\n",
    "\n"
   ]
  },
  {
   "cell_type": "code",
   "execution_count": 13,
   "id": "cb651f62",
   "metadata": {},
   "outputs": [
    {
     "data": {
      "text/html": [
       "<div>\n",
       "<style scoped>\n",
       "    .dataframe tbody tr th:only-of-type {\n",
       "        vertical-align: middle;\n",
       "    }\n",
       "\n",
       "    .dataframe tbody tr th {\n",
       "        vertical-align: top;\n",
       "    }\n",
       "\n",
       "    .dataframe thead th {\n",
       "        text-align: right;\n",
       "    }\n",
       "</style>\n",
       "<table border=\"1\" class=\"dataframe\">\n",
       "  <thead>\n",
       "    <tr style=\"text-align: right;\">\n",
       "      <th></th>\n",
       "      <th>adhyaya</th>\n",
       "      <th>pada</th>\n",
       "    </tr>\n",
       "  </thead>\n",
       "  <tbody>\n",
       "    <tr>\n",
       "      <th>count</th>\n",
       "      <td>3983.000000</td>\n",
       "      <td>3983.000000</td>\n",
       "    </tr>\n",
       "    <tr>\n",
       "      <th>mean</th>\n",
       "      <td>4.650264</td>\n",
       "      <td>4.899925</td>\n",
       "    </tr>\n",
       "    <tr>\n",
       "      <th>std</th>\n",
       "      <td>2.036570</td>\n",
       "      <td>2.034939</td>\n",
       "    </tr>\n",
       "    <tr>\n",
       "      <th>min</th>\n",
       "      <td>1.000000</td>\n",
       "      <td>1.100000</td>\n",
       "    </tr>\n",
       "    <tr>\n",
       "      <th>25%</th>\n",
       "      <td>3.000000</td>\n",
       "      <td>3.300000</td>\n",
       "    </tr>\n",
       "    <tr>\n",
       "      <th>50%</th>\n",
       "      <td>5.000000</td>\n",
       "      <td>5.100000</td>\n",
       "    </tr>\n",
       "    <tr>\n",
       "      <th>75%</th>\n",
       "      <td>6.000000</td>\n",
       "      <td>6.300000</td>\n",
       "    </tr>\n",
       "    <tr>\n",
       "      <th>max</th>\n",
       "      <td>8.000000</td>\n",
       "      <td>8.400000</td>\n",
       "    </tr>\n",
       "  </tbody>\n",
       "</table>\n",
       "</div>"
      ],
      "text/plain": [
       "           adhyaya         pada\n",
       "count  3983.000000  3983.000000\n",
       "mean      4.650264     4.899925\n",
       "std       2.036570     2.034939\n",
       "min       1.000000     1.100000\n",
       "25%       3.000000     3.300000\n",
       "50%       5.000000     5.100000\n",
       "75%       6.000000     6.300000\n",
       "max       8.000000     8.400000"
      ]
     },
     "execution_count": 13,
     "metadata": {},
     "output_type": "execute_result"
    }
   ],
   "source": [
    "#Get some stats on the data \n",
    "df.describe()"
   ]
  },
  {
   "cell_type": "code",
   "execution_count": 30,
   "id": "059fb9d8",
   "metadata": {},
   "outputs": [],
   "source": [
    "stopwords=set(STOPWORDS)\n"
   ]
  },
  {
   "cell_type": "code",
   "execution_count": 31,
   "id": "e8f16865",
   "metadata": {},
   "outputs": [],
   "source": [
    "data = dat1['Sanskrit']"
   ]
  },
  {
   "cell_type": "code",
   "execution_count": 32,
   "id": "811919d4",
   "metadata": {},
   "outputs": [
    {
     "data": {
      "text/plain": [
       "0            वृद्धिरादैच्\n",
       "1              अदेङ् गुणः\n",
       "2           इको गुणवृद्धी\n",
       "3    न धातुलोप आर्धधातुके\n",
       "4              क्क्ङिति च\n",
       "Name: Sanskrit, dtype: object"
      ]
     },
     "execution_count": 32,
     "metadata": {},
     "output_type": "execute_result"
    }
   ],
   "source": [
    "data.head()"
   ]
  },
  {
   "cell_type": "code",
   "execution_count": 33,
   "id": "6bb08d20",
   "metadata": {},
   "outputs": [
    {
     "data": {
      "image/png": "[encoded data removed]",
      "text/plain": [
       "<Figure size 432x288 with 1 Axes>"
      ]
     },
     "metadata": {
      "needs_background": "light"
     },
     "output_type": "display_data"
    }
   ],
   "source": [
    "wordcloud = WordCloud(width=1300, height=600, stopwords=stopwords).generate(str(data))\n",
    "plt.imshow(wordcloud, interpolation='bilinear')\n",
    "plt.axis('off')\n",
    "plt.tight_layout(pad=0)\n",
    "plt.show()\n",
    "\n"
   ]
  },
  {
   "cell_type": "code",
   "execution_count": null,
   "id": "2bbb6491",
   "metadata": {},
   "outputs": [],
   "source": []
  }
 ],
 "metadata": {
  "kernelspec": {
   "display_name": "Python 3 (ipykernel)",
   "language": "python",
   "name": "python3"
  },
  "language_info": {
   "codemirror_mode": {
    "name": "ipython",
    "version": 3
   },
   "file_extension": ".py",
   "mimetype": "text/x-python",
   "name": "python",
   "nbconvert_exporter": "python",
   "pygments_lexer": "ipython3",
   "version": "3.9.12"
  }
 },
 "nbformat": 4,
 "nbformat_minor": 5
}
